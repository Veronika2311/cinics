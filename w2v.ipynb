{
 "cells": [
  {
   "cell_type": "markdown",
   "metadata": {},
   "source": [
    "# Word2vec"
   ]
  },
  {
   "cell_type": "markdown",
   "metadata": {},
   "source": [
    "Файл cinics.txt, в той же папке, что и программа"
   ]
  },
  {
   "cell_type": "code",
   "execution_count": 1,
   "metadata": {
    "scrolled": false
   },
   "outputs": [],
   "source": [
    "with open('cinics.txt', 'r', encoding='utf-8') as f:\n",
    "    text = f.read()"
   ]
  },
  {
   "cell_type": "markdown",
   "metadata": {},
   "source": [
    "Разделение текста на предложения"
   ]
  },
  {
   "cell_type": "code",
   "execution_count": 6,
   "metadata": {
    "scrolled": true
   },
   "outputs": [
    {
     "name": "stderr",
     "output_type": "stream",
     "text": [
      "[nltk_data] Downloading package punkt to\n",
      "[nltk_data]     C:\\Users\\M\\AppData\\Roaming\\nltk_data...\n",
      "[nltk_data]   Package punkt is already up-to-date!\n"
     ]
    },
    {
     "data": {
      "text/plain": [
       "True"
      ]
     },
     "execution_count": 6,
     "metadata": {},
     "output_type": "execute_result"
    }
   ],
   "source": [
    "import nltk\n",
    "from nltk.tokenize import word_tokenize\n",
    "from pymorphy2 import MorphAnalyzer\n",
    "morph = MorphAnalyzer()\n",
    "nltk.download('punkt')"
   ]
  },
  {
   "cell_type": "code",
   "execution_count": 50,
   "metadata": {},
   "outputs": [
    {
     "name": "stdout",
     "output_type": "stream",
     "text": [
      "['Анатолий', 'Мариенгоф', '.', 'Циники', 'роман', 'Почему', 'может', 'быть', 'признан', 'виновным', 'историк', ',', 'верно', 'следующий', 'мельчайшим', 'подробностям', 'рассказа', ',', 'находящегося', 'в', 'его', 'распоряжении', '?', 'Его', 'ли', 'вина', ',', 'если', 'действующие', 'лица']\n"
     ]
    }
   ],
   "source": [
    "all_words = nltk.word_tokenize(text)\n",
    "print(all_words[0:30])"
   ]
  },
  {
   "cell_type": "code",
   "execution_count": 51,
   "metadata": {},
   "outputs": [],
   "source": [
    "lemms = []\n",
    "for one_word in all_words:\n",
    "    parseword = morph.parse(one_word)\n",
    "    if parseword[0].tag.POS != None:\n",
    "        lemms.append(parseword[0][2])"
   ]
  },
  {
   "cell_type": "code",
   "execution_count": 52,
   "metadata": {},
   "outputs": [
    {
     "data": {
      "text/plain": [
       "['анатолий',\n",
       " 'мариенгоф',\n",
       " 'циник',\n",
       " 'роман',\n",
       " 'почему',\n",
       " 'мочь',\n",
       " 'быть',\n",
       " 'признанный',\n",
       " 'виновный',\n",
       " 'историк']"
      ]
     },
     "execution_count": 52,
     "metadata": {},
     "output_type": "execute_result"
    }
   ],
   "source": [
    "lemms[0:10]"
   ]
  },
  {
   "cell_type": "code",
   "execution_count": 53,
   "metadata": {},
   "outputs": [],
   "source": [
    "with open('cinics_w2v_lemm.txt', 'w', encoding='utf-8') as f:\n",
    "    f.write(' '.join(lemms))"
   ]
  },
  {
   "cell_type": "code",
   "execution_count": 54,
   "metadata": {},
   "outputs": [],
   "source": [
    "import re\n",
    "import gensim\n",
    "import logging\n",
    "import nltk.data\n",
    "import pandas as pd\n",
    "#import urllib.request\n",
    "#from bs4 import BeautifulSoup\n",
    "from nltk.corpus import stopwords\n",
    "from gensim.models import word2vec\n",
    "\n",
    "import warnings\n",
    "warnings.filterwarnings('ignore')"
   ]
  },
  {
   "cell_type": "code",
   "execution_count": 80,
   "metadata": {},
   "outputs": [],
   "source": [
    "logging.basicConfig(format='%(asctime)s : %(levelname)s : %(message)s', level=logging.INFO)"
   ]
  },
  {
   "cell_type": "code",
   "execution_count": 55,
   "metadata": {},
   "outputs": [],
   "source": [
    "f = 'cinics_w2v_lemm.txt'\n",
    "data = gensim.models.word2vec.LineSentence(f)"
   ]
  },
  {
   "cell_type": "code",
   "execution_count": 63,
   "metadata": {},
   "outputs": [
    {
     "name": "stderr",
     "output_type": "stream",
     "text": [
      "2020-06-13 12:35:00,146 : INFO : collecting all words and their counts\n",
      "2020-06-13 12:35:00,168 : INFO : PROGRESS: at sentence #0, processed 0 words, keeping 0 word types\n",
      "2020-06-13 12:35:00,295 : INFO : collected 6366 word types from a corpus of 21299 raw words and 3 sentences\n",
      "2020-06-13 12:35:00,319 : INFO : Loading a fresh vocabulary\n",
      "2020-06-13 12:35:00,682 : INFO : effective_min_count=5 retains 671 unique words (10% of original 6366, drops 5695)\n",
      "2020-06-13 12:35:00,692 : INFO : effective_min_count=5 leaves 12884 word corpus (60% of original 21299, drops 8415)\n",
      "2020-06-13 12:35:00,789 : INFO : deleting the raw counts dictionary of 6366 items\n",
      "2020-06-13 12:35:00,797 : INFO : sample=0.001 downsamples 61 most-common words\n",
      "2020-06-13 12:35:00,813 : INFO : downsampling leaves estimated 8700 word corpus (67.5% of prior 12884)\n",
      "2020-06-13 12:35:00,825 : INFO : estimated required memory for 671 words and 300 dimensions: 1945900 bytes\n",
      "2020-06-13 12:35:00,837 : INFO : resetting layer weights\n",
      "2020-06-13 12:35:01,237 : INFO : training model with 3 workers on 671 vocabulary and 300 features, using sg=0 hs=0 sample=0.001 negative=5 window=5\n",
      "2020-06-13 12:35:01,465 : INFO : worker thread finished; awaiting finish of 2 more threads\n",
      "2020-06-13 12:35:01,502 : INFO : worker thread finished; awaiting finish of 1 more threads\n",
      "2020-06-13 12:35:01,524 : INFO : worker thread finished; awaiting finish of 0 more threads\n",
      "2020-06-13 12:35:01,532 : INFO : EPOCH - 1 : training on 21299 raw words (8658 effective words) took 0.2s, 36364 effective words/s\n",
      "2020-06-13 12:35:01,734 : INFO : worker thread finished; awaiting finish of 2 more threads\n",
      "2020-06-13 12:35:01,833 : INFO : worker thread finished; awaiting finish of 1 more threads\n",
      "2020-06-13 12:35:01,833 : INFO : worker thread finished; awaiting finish of 0 more threads\n",
      "2020-06-13 12:35:01,917 : INFO : EPOCH - 2 : training on 21299 raw words (8702 effective words) took 0.3s, 32507 effective words/s\n",
      "2020-06-13 12:35:02,146 : INFO : worker thread finished; awaiting finish of 2 more threads\n",
      "2020-06-13 12:35:02,209 : INFO : worker thread finished; awaiting finish of 1 more threads\n",
      "2020-06-13 12:35:02,279 : INFO : worker thread finished; awaiting finish of 0 more threads\n",
      "2020-06-13 12:35:02,289 : INFO : EPOCH - 3 : training on 21299 raw words (8713 effective words) took 0.3s, 28068 effective words/s\n",
      "2020-06-13 12:35:02,440 : INFO : worker thread finished; awaiting finish of 2 more threads\n",
      "2020-06-13 12:35:02,461 : INFO : worker thread finished; awaiting finish of 1 more threads\n",
      "2020-06-13 12:35:02,547 : INFO : worker thread finished; awaiting finish of 0 more threads\n",
      "2020-06-13 12:35:02,584 : INFO : EPOCH - 4 : training on 21299 raw words (8692 effective words) took 0.2s, 38099 effective words/s\n",
      "2020-06-13 12:35:02,730 : INFO : worker thread finished; awaiting finish of 2 more threads\n",
      "2020-06-13 12:35:02,747 : INFO : worker thread finished; awaiting finish of 1 more threads\n",
      "2020-06-13 12:35:02,775 : INFO : worker thread finished; awaiting finish of 0 more threads\n",
      "2020-06-13 12:35:02,784 : INFO : EPOCH - 5 : training on 21299 raw words (8653 effective words) took 0.1s, 62935 effective words/s\n",
      "2020-06-13 12:35:03,033 : INFO : worker thread finished; awaiting finish of 2 more threads\n",
      "2020-06-13 12:35:03,043 : INFO : worker thread finished; awaiting finish of 1 more threads\n",
      "2020-06-13 12:35:03,074 : INFO : worker thread finished; awaiting finish of 0 more threads\n",
      "2020-06-13 12:35:03,090 : INFO : EPOCH - 6 : training on 21299 raw words (8733 effective words) took 0.3s, 30596 effective words/s\n",
      "2020-06-13 12:35:03,199 : INFO : worker thread finished; awaiting finish of 2 more threads\n",
      "2020-06-13 12:35:03,228 : INFO : worker thread finished; awaiting finish of 1 more threads\n",
      "2020-06-13 12:35:03,248 : INFO : worker thread finished; awaiting finish of 0 more threads\n",
      "2020-06-13 12:35:03,252 : INFO : EPOCH - 7 : training on 21299 raw words (8720 effective words) took 0.1s, 60799 effective words/s\n",
      "2020-06-13 12:35:03,455 : INFO : worker thread finished; awaiting finish of 2 more threads\n",
      "2020-06-13 12:35:03,541 : INFO : worker thread finished; awaiting finish of 1 more threads\n",
      "2020-06-13 12:35:03,566 : INFO : worker thread finished; awaiting finish of 0 more threads\n",
      "2020-06-13 12:35:03,586 : INFO : EPOCH - 8 : training on 21299 raw words (8664 effective words) took 0.3s, 27401 effective words/s\n",
      "2020-06-13 12:35:03,825 : INFO : worker thread finished; awaiting finish of 2 more threads\n",
      "2020-06-13 12:35:03,857 : INFO : worker thread finished; awaiting finish of 1 more threads\n",
      "2020-06-13 12:35:03,881 : INFO : worker thread finished; awaiting finish of 0 more threads\n",
      "2020-06-13 12:35:03,937 : INFO : EPOCH - 9 : training on 21299 raw words (8708 effective words) took 0.3s, 32081 effective words/s\n",
      "2020-06-13 12:35:04,243 : INFO : worker thread finished; awaiting finish of 2 more threads\n",
      "2020-06-13 12:35:04,387 : INFO : worker thread finished; awaiting finish of 1 more threads\n",
      "2020-06-13 12:35:04,458 : INFO : worker thread finished; awaiting finish of 0 more threads\n",
      "2020-06-13 12:35:04,542 : INFO : EPOCH - 10 : training on 21299 raw words (8699 effective words) took 0.4s, 20262 effective words/s\n",
      "2020-06-13 12:35:04,793 : INFO : worker thread finished; awaiting finish of 2 more threads\n",
      "2020-06-13 12:35:04,860 : INFO : worker thread finished; awaiting finish of 1 more threads\n",
      "2020-06-13 12:35:04,874 : INFO : worker thread finished; awaiting finish of 0 more threads\n",
      "2020-06-13 12:35:04,948 : INFO : EPOCH - 11 : training on 21299 raw words (8654 effective words) took 0.3s, 27747 effective words/s\n",
      "2020-06-13 12:35:05,192 : INFO : worker thread finished; awaiting finish of 2 more threads\n",
      "2020-06-13 12:35:05,273 : INFO : worker thread finished; awaiting finish of 1 more threads\n",
      "2020-06-13 12:35:05,374 : INFO : worker thread finished; awaiting finish of 0 more threads\n",
      "2020-06-13 12:35:05,426 : INFO : EPOCH - 12 : training on 21299 raw words (8684 effective words) took 0.3s, 27000 effective words/s\n",
      "2020-06-13 12:35:05,624 : INFO : worker thread finished; awaiting finish of 2 more threads\n",
      "2020-06-13 12:35:05,648 : INFO : worker thread finished; awaiting finish of 1 more threads\n",
      "2020-06-13 12:35:05,676 : INFO : worker thread finished; awaiting finish of 0 more threads\n",
      "2020-06-13 12:35:05,684 : INFO : EPOCH - 13 : training on 21299 raw words (8679 effective words) took 0.1s, 61179 effective words/s\n",
      "2020-06-13 12:35:05,831 : INFO : worker thread finished; awaiting finish of 2 more threads\n",
      "2020-06-13 12:35:06,029 : INFO : worker thread finished; awaiting finish of 1 more threads\n",
      "2020-06-13 12:35:06,161 : INFO : worker thread finished; awaiting finish of 0 more threads\n",
      "2020-06-13 12:35:06,173 : INFO : EPOCH - 14 : training on 21299 raw words (8691 effective words) took 0.5s, 18485 effective words/s\n",
      "2020-06-13 12:35:06,363 : INFO : worker thread finished; awaiting finish of 2 more threads\n",
      "2020-06-13 12:35:06,437 : INFO : worker thread finished; awaiting finish of 1 more threads\n",
      "2020-06-13 12:35:06,493 : INFO : worker thread finished; awaiting finish of 0 more threads\n",
      "2020-06-13 12:35:06,603 : INFO : EPOCH - 15 : training on 21299 raw words (8755 effective words) took 0.4s, 23215 effective words/s\n",
      "2020-06-13 12:35:06,777 : INFO : worker thread finished; awaiting finish of 2 more threads\n",
      "2020-06-13 12:35:06,856 : INFO : worker thread finished; awaiting finish of 1 more threads\n",
      "2020-06-13 12:35:06,874 : INFO : worker thread finished; awaiting finish of 0 more threads\n",
      "2020-06-13 12:35:06,960 : INFO : EPOCH - 16 : training on 21299 raw words (8718 effective words) took 0.3s, 31323 effective words/s\n",
      "2020-06-13 12:35:07,163 : INFO : worker thread finished; awaiting finish of 2 more threads\n",
      "2020-06-13 12:35:07,202 : INFO : worker thread finished; awaiting finish of 1 more threads\n",
      "2020-06-13 12:35:07,214 : INFO : worker thread finished; awaiting finish of 0 more threads\n",
      "2020-06-13 12:35:07,312 : INFO : EPOCH - 17 : training on 21299 raw words (8705 effective words) took 0.3s, 33708 effective words/s\n",
      "2020-06-13 12:35:07,579 : INFO : worker thread finished; awaiting finish of 2 more threads\n",
      "2020-06-13 12:35:07,607 : INFO : worker thread finished; awaiting finish of 1 more threads\n"
     ]
    },
    {
     "name": "stderr",
     "output_type": "stream",
     "text": [
      "2020-06-13 12:35:07,635 : INFO : worker thread finished; awaiting finish of 0 more threads\n",
      "2020-06-13 12:35:07,643 : INFO : EPOCH - 18 : training on 21299 raw words (8682 effective words) took 0.1s, 63768 effective words/s\n",
      "2020-06-13 12:35:07,794 : INFO : worker thread finished; awaiting finish of 2 more threads\n",
      "2020-06-13 12:35:07,923 : INFO : worker thread finished; awaiting finish of 1 more threads\n",
      "2020-06-13 12:35:07,997 : INFO : worker thread finished; awaiting finish of 0 more threads\n",
      "2020-06-13 12:35:08,021 : INFO : EPOCH - 19 : training on 21299 raw words (8664 effective words) took 0.4s, 24118 effective words/s\n",
      "2020-06-13 12:35:08,166 : INFO : worker thread finished; awaiting finish of 2 more threads\n",
      "2020-06-13 12:35:08,209 : INFO : worker thread finished; awaiting finish of 1 more threads\n",
      "2020-06-13 12:35:08,250 : INFO : worker thread finished; awaiting finish of 0 more threads\n",
      "2020-06-13 12:35:08,270 : INFO : EPOCH - 20 : training on 21299 raw words (8715 effective words) took 0.2s, 37683 effective words/s\n",
      "2020-06-13 12:35:08,477 : INFO : worker thread finished; awaiting finish of 2 more threads\n",
      "2020-06-13 12:35:08,542 : INFO : worker thread finished; awaiting finish of 1 more threads\n",
      "2020-06-13 12:35:08,607 : INFO : worker thread finished; awaiting finish of 0 more threads\n",
      "2020-06-13 12:35:08,625 : INFO : EPOCH - 21 : training on 21299 raw words (8713 effective words) took 0.3s, 28628 effective words/s\n",
      "2020-06-13 12:35:08,722 : INFO : worker thread finished; awaiting finish of 2 more threads\n",
      "2020-06-13 12:35:08,744 : INFO : worker thread finished; awaiting finish of 1 more threads\n",
      "2020-06-13 12:35:08,754 : INFO : worker thread finished; awaiting finish of 0 more threads\n",
      "2020-06-13 12:35:08,769 : INFO : EPOCH - 22 : training on 21299 raw words (8782 effective words) took 0.1s, 75780 effective words/s\n",
      "2020-06-13 12:35:08,889 : INFO : worker thread finished; awaiting finish of 2 more threads\n",
      "2020-06-13 12:35:08,920 : INFO : worker thread finished; awaiting finish of 1 more threads\n",
      "2020-06-13 12:35:08,930 : INFO : worker thread finished; awaiting finish of 0 more threads\n",
      "2020-06-13 12:35:08,940 : INFO : EPOCH - 23 : training on 21299 raw words (8749 effective words) took 0.1s, 72208 effective words/s\n",
      "2020-06-13 12:35:09,181 : INFO : worker thread finished; awaiting finish of 2 more threads\n",
      "2020-06-13 12:35:09,255 : INFO : worker thread finished; awaiting finish of 1 more threads\n",
      "2020-06-13 12:35:09,296 : INFO : worker thread finished; awaiting finish of 0 more threads\n",
      "2020-06-13 12:35:09,320 : INFO : EPOCH - 24 : training on 21299 raw words (8746 effective words) took 0.2s, 38042 effective words/s\n",
      "2020-06-13 12:35:09,445 : INFO : worker thread finished; awaiting finish of 2 more threads\n",
      "2020-06-13 12:35:09,477 : INFO : worker thread finished; awaiting finish of 1 more threads\n",
      "2020-06-13 12:35:09,525 : INFO : worker thread finished; awaiting finish of 0 more threads\n",
      "2020-06-13 12:35:09,549 : INFO : EPOCH - 25 : training on 21299 raw words (8683 effective words) took 0.2s, 45950 effective words/s\n",
      "2020-06-13 12:35:09,773 : INFO : worker thread finished; awaiting finish of 2 more threads\n",
      "2020-06-13 12:35:09,876 : INFO : worker thread finished; awaiting finish of 1 more threads\n",
      "2020-06-13 12:35:09,896 : INFO : worker thread finished; awaiting finish of 0 more threads\n",
      "2020-06-13 12:35:10,001 : INFO : EPOCH - 26 : training on 21299 raw words (8693 effective words) took 0.4s, 23655 effective words/s\n",
      "2020-06-13 12:35:10,306 : INFO : worker thread finished; awaiting finish of 2 more threads\n",
      "2020-06-13 12:35:10,352 : INFO : worker thread finished; awaiting finish of 1 more threads\n",
      "2020-06-13 12:35:10,406 : INFO : worker thread finished; awaiting finish of 0 more threads\n",
      "2020-06-13 12:35:10,442 : INFO : EPOCH - 27 : training on 21299 raw words (8669 effective words) took 0.3s, 29627 effective words/s\n",
      "2020-06-13 12:35:10,756 : INFO : worker thread finished; awaiting finish of 2 more threads\n",
      "2020-06-13 12:35:10,901 : INFO : worker thread finished; awaiting finish of 1 more threads\n",
      "2020-06-13 12:35:10,903 : INFO : worker thread finished; awaiting finish of 0 more threads\n",
      "2020-06-13 12:35:10,918 : INFO : EPOCH - 28 : training on 21299 raw words (8653 effective words) took 0.4s, 23519 effective words/s\n",
      "2020-06-13 12:35:11,056 : INFO : worker thread finished; awaiting finish of 2 more threads\n",
      "2020-06-13 12:35:11,077 : INFO : worker thread finished; awaiting finish of 1 more threads\n",
      "2020-06-13 12:35:11,145 : INFO : worker thread finished; awaiting finish of 0 more threads\n",
      "2020-06-13 12:35:11,155 : INFO : EPOCH - 29 : training on 21299 raw words (8699 effective words) took 0.2s, 39336 effective words/s\n",
      "2020-06-13 12:35:11,391 : INFO : worker thread finished; awaiting finish of 2 more threads\n",
      "2020-06-13 12:35:11,467 : INFO : worker thread finished; awaiting finish of 1 more threads\n",
      "2020-06-13 12:35:11,520 : INFO : worker thread finished; awaiting finish of 0 more threads\n",
      "2020-06-13 12:35:11,580 : INFO : EPOCH - 30 : training on 21299 raw words (8654 effective words) took 0.3s, 31013 effective words/s\n",
      "2020-06-13 12:35:11,803 : INFO : worker thread finished; awaiting finish of 2 more threads\n",
      "2020-06-13 12:35:11,841 : INFO : worker thread finished; awaiting finish of 1 more threads\n",
      "2020-06-13 12:35:11,857 : INFO : worker thread finished; awaiting finish of 0 more threads\n",
      "2020-06-13 12:35:11,869 : INFO : EPOCH - 31 : training on 21299 raw words (8710 effective words) took 0.2s, 36698 effective words/s\n",
      "2020-06-13 12:35:12,113 : INFO : worker thread finished; awaiting finish of 2 more threads\n",
      "2020-06-13 12:35:12,274 : INFO : worker thread finished; awaiting finish of 1 more threads\n",
      "2020-06-13 12:35:12,285 : INFO : worker thread finished; awaiting finish of 0 more threads\n",
      "2020-06-13 12:35:12,323 : INFO : EPOCH - 32 : training on 21299 raw words (8696 effective words) took 0.4s, 19910 effective words/s\n",
      "2020-06-13 12:35:12,702 : INFO : worker thread finished; awaiting finish of 2 more threads\n",
      "2020-06-13 12:35:12,734 : INFO : worker thread finished; awaiting finish of 1 more threads\n",
      "2020-06-13 12:35:12,774 : INFO : worker thread finished; awaiting finish of 0 more threads\n",
      "2020-06-13 12:35:12,794 : INFO : EPOCH - 33 : training on 21299 raw words (8721 effective words) took 0.3s, 26234 effective words/s\n",
      "2020-06-13 12:35:12,930 : INFO : worker thread finished; awaiting finish of 2 more threads\n",
      "2020-06-13 12:35:13,090 : INFO : worker thread finished; awaiting finish of 1 more threads\n",
      "2020-06-13 12:35:13,189 : INFO : worker thread finished; awaiting finish of 0 more threads\n",
      "2020-06-13 12:35:13,208 : INFO : EPOCH - 34 : training on 21299 raw words (8761 effective words) took 0.4s, 22713 effective words/s\n",
      "2020-06-13 12:35:13,591 : INFO : worker thread finished; awaiting finish of 2 more threads\n",
      "2020-06-13 12:35:13,825 : INFO : worker thread finished; awaiting finish of 1 more threads\n",
      "2020-06-13 12:35:14,077 : INFO : worker thread finished; awaiting finish of 0 more threads\n",
      "2020-06-13 12:35:14,142 : INFO : EPOCH - 35 : training on 21299 raw words (8682 effective words) took 0.7s, 11610 effective words/s\n",
      "2020-06-13 12:35:14,327 : INFO : worker thread finished; awaiting finish of 2 more threads\n",
      "2020-06-13 12:35:14,366 : INFO : worker thread finished; awaiting finish of 1 more threads\n",
      "2020-06-13 12:35:14,426 : INFO : worker thread finished; awaiting finish of 0 more threads\n",
      "2020-06-13 12:35:14,437 : INFO : EPOCH - 36 : training on 21299 raw words (8634 effective words) took 0.2s, 45908 effective words/s\n",
      "2020-06-13 12:35:14,586 : INFO : worker thread finished; awaiting finish of 2 more threads\n",
      "2020-06-13 12:35:14,636 : INFO : worker thread finished; awaiting finish of 1 more threads\n",
      "2020-06-13 12:35:14,648 : INFO : worker thread finished; awaiting finish of 0 more threads\n",
      "2020-06-13 12:35:14,660 : INFO : EPOCH - 37 : training on 21299 raw words (8748 effective words) took 0.2s, 42983 effective words/s\n",
      "2020-06-13 12:35:14,764 : INFO : worker thread finished; awaiting finish of 2 more threads\n",
      "2020-06-13 12:35:14,836 : INFO : worker thread finished; awaiting finish of 1 more threads\n",
      "2020-06-13 12:35:14,856 : INFO : worker thread finished; awaiting finish of 0 more threads\n",
      "2020-06-13 12:35:14,872 : INFO : EPOCH - 38 : training on 21299 raw words (8732 effective words) took 0.2s, 44937 effective words/s\n"
     ]
    },
    {
     "name": "stderr",
     "output_type": "stream",
     "text": [
      "2020-06-13 12:35:15,080 : INFO : worker thread finished; awaiting finish of 2 more threads\n",
      "2020-06-13 12:35:15,144 : INFO : worker thread finished; awaiting finish of 1 more threads\n",
      "2020-06-13 12:35:15,152 : INFO : worker thread finished; awaiting finish of 0 more threads\n",
      "2020-06-13 12:35:15,172 : INFO : EPOCH - 39 : training on 21299 raw words (8716 effective words) took 0.3s, 31683 effective words/s\n",
      "2020-06-13 12:35:15,622 : INFO : worker thread finished; awaiting finish of 2 more threads\n",
      "2020-06-13 12:35:15,634 : INFO : worker thread finished; awaiting finish of 1 more threads\n",
      "2020-06-13 12:35:15,747 : INFO : worker thread finished; awaiting finish of 0 more threads\n",
      "2020-06-13 12:35:15,871 : INFO : EPOCH - 40 : training on 21299 raw words (8709 effective words) took 0.7s, 12810 effective words/s\n",
      "2020-06-13 12:35:15,985 : INFO : worker thread finished; awaiting finish of 2 more threads\n",
      "2020-06-13 12:35:16,004 : INFO : worker thread finished; awaiting finish of 1 more threads\n",
      "2020-06-13 12:35:16,026 : INFO : worker thread finished; awaiting finish of 0 more threads\n",
      "2020-06-13 12:35:16,074 : INFO : EPOCH - 41 : training on 21299 raw words (8701 effective words) took 0.2s, 49455 effective words/s\n",
      "2020-06-13 12:35:16,250 : INFO : worker thread finished; awaiting finish of 2 more threads\n",
      "2020-06-13 12:35:16,343 : INFO : worker thread finished; awaiting finish of 1 more threads\n",
      "2020-06-13 12:35:16,354 : INFO : worker thread finished; awaiting finish of 0 more threads\n",
      "2020-06-13 12:35:16,384 : INFO : EPOCH - 42 : training on 21299 raw words (8733 effective words) took 0.2s, 37806 effective words/s\n",
      "2020-06-13 12:35:16,515 : INFO : worker thread finished; awaiting finish of 2 more threads\n",
      "2020-06-13 12:35:16,545 : INFO : worker thread finished; awaiting finish of 1 more threads\n",
      "2020-06-13 12:35:16,555 : INFO : worker thread finished; awaiting finish of 0 more threads\n",
      "2020-06-13 12:35:16,627 : INFO : EPOCH - 43 : training on 21299 raw words (8722 effective words) took 0.2s, 39804 effective words/s\n",
      "2020-06-13 12:35:16,811 : INFO : worker thread finished; awaiting finish of 2 more threads\n",
      "2020-06-13 12:35:16,923 : INFO : worker thread finished; awaiting finish of 1 more threads\n",
      "2020-06-13 12:35:16,939 : INFO : worker thread finished; awaiting finish of 0 more threads\n",
      "2020-06-13 12:35:16,951 : INFO : EPOCH - 44 : training on 21299 raw words (8645 effective words) took 0.3s, 28917 effective words/s\n",
      "2020-06-13 12:35:17,155 : INFO : worker thread finished; awaiting finish of 2 more threads\n",
      "2020-06-13 12:35:17,205 : INFO : worker thread finished; awaiting finish of 1 more threads\n",
      "2020-06-13 12:35:17,272 : INFO : worker thread finished; awaiting finish of 0 more threads\n",
      "2020-06-13 12:35:17,276 : INFO : EPOCH - 45 : training on 21299 raw words (8754 effective words) took 0.3s, 28877 effective words/s\n",
      "2020-06-13 12:35:17,596 : INFO : worker thread finished; awaiting finish of 2 more threads\n",
      "2020-06-13 12:35:17,625 : INFO : worker thread finished; awaiting finish of 1 more threads\n",
      "2020-06-13 12:35:17,646 : INFO : worker thread finished; awaiting finish of 0 more threads\n",
      "2020-06-13 12:35:17,712 : INFO : EPOCH - 46 : training on 21299 raw words (8642 effective words) took 0.2s, 46033 effective words/s\n",
      "2020-06-13 12:35:17,855 : INFO : worker thread finished; awaiting finish of 2 more threads\n",
      "2020-06-13 12:35:17,880 : INFO : worker thread finished; awaiting finish of 1 more threads\n",
      "2020-06-13 12:35:17,952 : INFO : worker thread finished; awaiting finish of 0 more threads\n",
      "2020-06-13 12:35:17,964 : INFO : EPOCH - 47 : training on 21299 raw words (8766 effective words) took 0.2s, 47600 effective words/s\n",
      "2020-06-13 12:35:18,195 : INFO : worker thread finished; awaiting finish of 2 more threads\n",
      "2020-06-13 12:35:18,296 : INFO : worker thread finished; awaiting finish of 1 more threads\n",
      "2020-06-13 12:35:18,309 : INFO : worker thread finished; awaiting finish of 0 more threads\n",
      "2020-06-13 12:35:18,450 : INFO : EPOCH - 48 : training on 21299 raw words (8685 effective words) took 0.5s, 19249 effective words/s\n",
      "2020-06-13 12:35:18,664 : INFO : worker thread finished; awaiting finish of 2 more threads\n",
      "2020-06-13 12:35:18,699 : INFO : worker thread finished; awaiting finish of 1 more threads\n",
      "2020-06-13 12:35:18,729 : INFO : worker thread finished; awaiting finish of 0 more threads\n",
      "2020-06-13 12:35:18,765 : INFO : EPOCH - 49 : training on 21299 raw words (8682 effective words) took 0.2s, 38676 effective words/s\n",
      "2020-06-13 12:35:19,180 : INFO : worker thread finished; awaiting finish of 2 more threads\n",
      "2020-06-13 12:35:19,388 : INFO : worker thread finished; awaiting finish of 1 more threads\n",
      "2020-06-13 12:35:19,424 : INFO : worker thread finished; awaiting finish of 0 more threads\n",
      "2020-06-13 12:35:19,456 : INFO : EPOCH - 50 : training on 21299 raw words (8679 effective words) took 0.5s, 16839 effective words/s\n",
      "2020-06-13 12:35:19,560 : INFO : worker thread finished; awaiting finish of 2 more threads\n",
      "2020-06-13 12:35:19,645 : INFO : worker thread finished; awaiting finish of 1 more threads\n",
      "2020-06-13 12:35:19,685 : INFO : worker thread finished; awaiting finish of 0 more threads\n",
      "2020-06-13 12:35:19,705 : INFO : EPOCH - 51 : training on 21299 raw words (8708 effective words) took 0.2s, 38128 effective words/s\n",
      "2020-06-13 12:35:19,877 : INFO : worker thread finished; awaiting finish of 2 more threads\n",
      "2020-06-13 12:35:20,147 : INFO : worker thread finished; awaiting finish of 1 more threads\n",
      "2020-06-13 12:35:20,206 : INFO : worker thread finished; awaiting finish of 0 more threads\n",
      "2020-06-13 12:35:20,212 : INFO : EPOCH - 52 : training on 21299 raw words (8719 effective words) took 0.5s, 18279 effective words/s\n",
      "2020-06-13 12:35:20,503 : INFO : worker thread finished; awaiting finish of 2 more threads\n",
      "2020-06-13 12:35:20,517 : INFO : worker thread finished; awaiting finish of 1 more threads\n",
      "2020-06-13 12:35:20,537 : INFO : worker thread finished; awaiting finish of 0 more threads\n",
      "2020-06-13 12:35:20,537 : INFO : EPOCH - 53 : training on 21299 raw words (8695 effective words) took 0.3s, 32900 effective words/s\n",
      "2020-06-13 12:35:20,713 : INFO : worker thread finished; awaiting finish of 2 more threads\n",
      "2020-06-13 12:35:20,856 : INFO : worker thread finished; awaiting finish of 1 more threads\n",
      "2020-06-13 12:35:20,901 : INFO : worker thread finished; awaiting finish of 0 more threads\n",
      "2020-06-13 12:35:20,912 : INFO : EPOCH - 54 : training on 21299 raw words (8748 effective words) took 0.3s, 28384 effective words/s\n",
      "2020-06-13 12:35:21,122 : INFO : worker thread finished; awaiting finish of 2 more threads\n",
      "2020-06-13 12:35:21,159 : INFO : worker thread finished; awaiting finish of 1 more threads\n",
      "2020-06-13 12:35:21,176 : INFO : worker thread finished; awaiting finish of 0 more threads\n",
      "2020-06-13 12:35:21,186 : INFO : EPOCH - 55 : training on 21299 raw words (8729 effective words) took 0.3s, 33840 effective words/s\n",
      "2020-06-13 12:35:21,521 : INFO : worker thread finished; awaiting finish of 2 more threads\n",
      "2020-06-13 12:35:21,648 : INFO : worker thread finished; awaiting finish of 1 more threads\n",
      "2020-06-13 12:35:21,693 : INFO : worker thread finished; awaiting finish of 0 more threads\n",
      "2020-06-13 12:35:21,778 : INFO : EPOCH - 56 : training on 21299 raw words (8766 effective words) took 0.5s, 17480 effective words/s\n",
      "2020-06-13 12:35:21,953 : INFO : worker thread finished; awaiting finish of 2 more threads\n",
      "2020-06-13 12:35:21,972 : INFO : worker thread finished; awaiting finish of 1 more threads\n",
      "2020-06-13 12:35:21,991 : INFO : worker thread finished; awaiting finish of 0 more threads\n",
      "2020-06-13 12:35:21,995 : INFO : EPOCH - 57 : training on 21299 raw words (8723 effective words) took 0.1s, 76658 effective words/s\n",
      "2020-06-13 12:35:22,173 : INFO : worker thread finished; awaiting finish of 2 more threads\n",
      "2020-06-13 12:35:22,198 : INFO : worker thread finished; awaiting finish of 1 more threads\n",
      "2020-06-13 12:35:22,397 : INFO : worker thread finished; awaiting finish of 0 more threads\n",
      "2020-06-13 12:35:22,414 : INFO : EPOCH - 58 : training on 21299 raw words (8658 effective words) took 0.4s, 21507 effective words/s\n",
      "2020-06-13 12:35:22,657 : INFO : worker thread finished; awaiting finish of 2 more threads\n",
      "2020-06-13 12:35:22,683 : INFO : worker thread finished; awaiting finish of 1 more threads\n"
     ]
    },
    {
     "name": "stderr",
     "output_type": "stream",
     "text": [
      "2020-06-13 12:35:22,839 : INFO : worker thread finished; awaiting finish of 0 more threads\n",
      "2020-06-13 12:35:22,914 : INFO : EPOCH - 59 : training on 21299 raw words (8712 effective words) took 0.4s, 23298 effective words/s\n",
      "2020-06-13 12:35:23,071 : INFO : worker thread finished; awaiting finish of 2 more threads\n",
      "2020-06-13 12:35:23,094 : INFO : worker thread finished; awaiting finish of 1 more threads\n",
      "2020-06-13 12:35:23,108 : INFO : worker thread finished; awaiting finish of 0 more threads\n",
      "2020-06-13 12:35:23,124 : INFO : EPOCH - 60 : training on 21299 raw words (8645 effective words) took 0.1s, 71777 effective words/s\n",
      "2020-06-13 12:35:23,256 : INFO : worker thread finished; awaiting finish of 2 more threads\n",
      "2020-06-13 12:35:23,351 : INFO : worker thread finished; awaiting finish of 1 more threads\n",
      "2020-06-13 12:35:23,359 : INFO : worker thread finished; awaiting finish of 0 more threads\n",
      "2020-06-13 12:35:23,430 : INFO : EPOCH - 61 : training on 21299 raw words (8674 effective words) took 0.2s, 38104 effective words/s\n",
      "2020-06-13 12:35:23,556 : INFO : worker thread finished; awaiting finish of 2 more threads\n",
      "2020-06-13 12:35:23,637 : INFO : worker thread finished; awaiting finish of 1 more threads\n",
      "2020-06-13 12:35:23,637 : INFO : worker thread finished; awaiting finish of 0 more threads\n",
      "2020-06-13 12:35:23,694 : INFO : EPOCH - 62 : training on 21299 raw words (8729 effective words) took 0.2s, 46048 effective words/s\n",
      "2020-06-13 12:35:23,868 : INFO : worker thread finished; awaiting finish of 2 more threads\n",
      "2020-06-13 12:35:23,895 : INFO : worker thread finished; awaiting finish of 1 more threads\n",
      "2020-06-13 12:35:23,919 : INFO : worker thread finished; awaiting finish of 0 more threads\n",
      "2020-06-13 12:35:23,974 : INFO : EPOCH - 63 : training on 21299 raw words (8661 effective words) took 0.2s, 51970 effective words/s\n",
      "2020-06-13 12:35:24,102 : INFO : worker thread finished; awaiting finish of 2 more threads\n",
      "2020-06-13 12:35:24,185 : INFO : worker thread finished; awaiting finish of 1 more threads\n",
      "2020-06-13 12:35:24,185 : INFO : worker thread finished; awaiting finish of 0 more threads\n",
      "2020-06-13 12:35:24,205 : INFO : EPOCH - 64 : training on 21299 raw words (8686 effective words) took 0.2s, 46151 effective words/s\n",
      "2020-06-13 12:35:24,394 : INFO : worker thread finished; awaiting finish of 2 more threads\n",
      "2020-06-13 12:35:24,490 : INFO : worker thread finished; awaiting finish of 1 more threads\n",
      "2020-06-13 12:35:24,534 : INFO : worker thread finished; awaiting finish of 0 more threads\n",
      "2020-06-13 12:35:24,546 : INFO : EPOCH - 65 : training on 21299 raw words (8727 effective words) took 0.3s, 31108 effective words/s\n",
      "2020-06-13 12:35:24,831 : INFO : worker thread finished; awaiting finish of 2 more threads\n",
      "2020-06-13 12:35:24,900 : INFO : worker thread finished; awaiting finish of 1 more threads\n",
      "2020-06-13 12:35:24,914 : INFO : worker thread finished; awaiting finish of 0 more threads\n",
      "2020-06-13 12:35:24,983 : INFO : EPOCH - 66 : training on 21299 raw words (8620 effective words) took 0.4s, 21105 effective words/s\n",
      "2020-06-13 12:35:25,149 : INFO : worker thread finished; awaiting finish of 2 more threads\n",
      "2020-06-13 12:35:25,200 : INFO : worker thread finished; awaiting finish of 1 more threads\n",
      "2020-06-13 12:35:25,232 : INFO : worker thread finished; awaiting finish of 0 more threads\n",
      "2020-06-13 12:35:25,274 : INFO : EPOCH - 67 : training on 21299 raw words (8642 effective words) took 0.2s, 35914 effective words/s\n",
      "2020-06-13 12:35:25,518 : INFO : worker thread finished; awaiting finish of 2 more threads\n",
      "2020-06-13 12:35:25,529 : INFO : worker thread finished; awaiting finish of 1 more threads\n",
      "2020-06-13 12:35:25,555 : INFO : worker thread finished; awaiting finish of 0 more threads\n",
      "2020-06-13 12:35:25,579 : INFO : EPOCH - 68 : training on 21299 raw words (8697 effective words) took 0.2s, 54376 effective words/s\n",
      "2020-06-13 12:35:25,974 : INFO : worker thread finished; awaiting finish of 2 more threads\n",
      "2020-06-13 12:35:26,167 : INFO : worker thread finished; awaiting finish of 1 more threads\n",
      "2020-06-13 12:35:26,167 : INFO : worker thread finished; awaiting finish of 0 more threads\n",
      "2020-06-13 12:35:26,181 : INFO : EPOCH - 69 : training on 21299 raw words (8664 effective words) took 0.5s, 16321 effective words/s\n",
      "2020-06-13 12:35:26,396 : INFO : worker thread finished; awaiting finish of 2 more threads\n",
      "2020-06-13 12:35:26,483 : INFO : worker thread finished; awaiting finish of 1 more threads\n",
      "2020-06-13 12:35:26,524 : INFO : worker thread finished; awaiting finish of 0 more threads\n",
      "2020-06-13 12:35:26,562 : INFO : EPOCH - 70 : training on 21299 raw words (8673 effective words) took 0.2s, 38393 effective words/s\n",
      "2020-06-13 12:35:26,767 : INFO : worker thread finished; awaiting finish of 2 more threads\n",
      "2020-06-13 12:35:26,786 : INFO : worker thread finished; awaiting finish of 1 more threads\n",
      "2020-06-13 12:35:26,806 : INFO : worker thread finished; awaiting finish of 0 more threads\n",
      "2020-06-13 12:35:26,814 : INFO : EPOCH - 71 : training on 21299 raw words (8733 effective words) took 0.1s, 58761 effective words/s\n",
      "2020-06-13 12:35:26,944 : INFO : worker thread finished; awaiting finish of 2 more threads\n",
      "2020-06-13 12:35:26,980 : INFO : worker thread finished; awaiting finish of 1 more threads\n",
      "2020-06-13 12:35:27,020 : INFO : worker thread finished; awaiting finish of 0 more threads\n",
      "2020-06-13 12:35:27,044 : INFO : EPOCH - 72 : training on 21299 raw words (8738 effective words) took 0.1s, 59542 effective words/s\n",
      "2020-06-13 12:35:27,252 : INFO : worker thread finished; awaiting finish of 2 more threads\n",
      "2020-06-13 12:35:27,372 : INFO : worker thread finished; awaiting finish of 1 more threads\n",
      "2020-06-13 12:35:27,388 : INFO : worker thread finished; awaiting finish of 0 more threads\n",
      "2020-06-13 12:35:27,396 : INFO : EPOCH - 73 : training on 21299 raw words (8698 effective words) took 0.3s, 27032 effective words/s\n",
      "2020-06-13 12:35:27,698 : INFO : worker thread finished; awaiting finish of 2 more threads\n",
      "2020-06-13 12:35:27,728 : INFO : worker thread finished; awaiting finish of 1 more threads\n",
      "2020-06-13 12:35:27,846 : INFO : worker thread finished; awaiting finish of 0 more threads\n",
      "2020-06-13 12:35:27,872 : INFO : EPOCH - 74 : training on 21299 raw words (8641 effective words) took 0.3s, 28290 effective words/s\n",
      "2020-06-13 12:35:28,062 : INFO : worker thread finished; awaiting finish of 2 more threads\n",
      "2020-06-13 12:35:28,113 : INFO : worker thread finished; awaiting finish of 1 more threads\n",
      "2020-06-13 12:35:28,123 : INFO : worker thread finished; awaiting finish of 0 more threads\n",
      "2020-06-13 12:35:28,133 : INFO : EPOCH - 75 : training on 21299 raw words (8707 effective words) took 0.2s, 58043 effective words/s\n",
      "2020-06-13 12:35:28,331 : INFO : worker thread finished; awaiting finish of 2 more threads\n",
      "2020-06-13 12:35:28,353 : INFO : worker thread finished; awaiting finish of 1 more threads\n",
      "2020-06-13 12:35:28,365 : INFO : worker thread finished; awaiting finish of 0 more threads\n",
      "2020-06-13 12:35:28,377 : INFO : EPOCH - 76 : training on 21299 raw words (8656 effective words) took 0.1s, 60658 effective words/s\n",
      "2020-06-13 12:35:28,618 : INFO : worker thread finished; awaiting finish of 2 more threads\n",
      "2020-06-13 12:35:28,649 : INFO : worker thread finished; awaiting finish of 1 more threads\n",
      "2020-06-13 12:35:28,657 : INFO : worker thread finished; awaiting finish of 0 more threads\n",
      "2020-06-13 12:35:28,670 : INFO : EPOCH - 77 : training on 21299 raw words (8714 effective words) took 0.3s, 31799 effective words/s\n",
      "2020-06-13 12:35:28,857 : INFO : worker thread finished; awaiting finish of 2 more threads\n",
      "2020-06-13 12:35:28,906 : INFO : worker thread finished; awaiting finish of 1 more threads\n",
      "2020-06-13 12:35:28,998 : INFO : worker thread finished; awaiting finish of 0 more threads\n",
      "2020-06-13 12:35:29,008 : INFO : EPOCH - 78 : training on 21299 raw words (8747 effective words) took 0.3s, 27129 effective words/s\n",
      "2020-06-13 12:35:29,137 : INFO : worker thread finished; awaiting finish of 2 more threads\n",
      "2020-06-13 12:35:29,250 : INFO : worker thread finished; awaiting finish of 1 more threads\n",
      "2020-06-13 12:35:29,270 : INFO : worker thread finished; awaiting finish of 0 more threads\n",
      "2020-06-13 12:35:29,280 : INFO : EPOCH - 79 : training on 21299 raw words (8633 effective words) took 0.2s, 35343 effective words/s\n"
     ]
    },
    {
     "name": "stderr",
     "output_type": "stream",
     "text": [
      "2020-06-13 12:35:29,371 : INFO : worker thread finished; awaiting finish of 2 more threads\n",
      "2020-06-13 12:35:29,443 : INFO : worker thread finished; awaiting finish of 1 more threads\n",
      "2020-06-13 12:35:29,459 : INFO : worker thread finished; awaiting finish of 0 more threads\n",
      "2020-06-13 12:35:29,501 : INFO : EPOCH - 80 : training on 21299 raw words (8730 effective words) took 0.2s, 43560 effective words/s\n",
      "2020-06-13 12:35:29,633 : INFO : worker thread finished; awaiting finish of 2 more threads\n",
      "2020-06-13 12:35:29,662 : INFO : worker thread finished; awaiting finish of 1 more threads\n",
      "2020-06-13 12:35:29,675 : INFO : worker thread finished; awaiting finish of 0 more threads\n",
      "2020-06-13 12:35:29,707 : INFO : EPOCH - 81 : training on 21299 raw words (8704 effective words) took 0.2s, 55092 effective words/s\n",
      "2020-06-13 12:35:29,838 : INFO : worker thread finished; awaiting finish of 2 more threads\n",
      "2020-06-13 12:35:29,855 : INFO : worker thread finished; awaiting finish of 1 more threads\n",
      "2020-06-13 12:35:29,875 : INFO : worker thread finished; awaiting finish of 0 more threads\n",
      "2020-06-13 12:35:29,927 : INFO : EPOCH - 82 : training on 21299 raw words (8635 effective words) took 0.2s, 48895 effective words/s\n",
      "2020-06-13 12:35:30,085 : INFO : worker thread finished; awaiting finish of 2 more threads\n",
      "2020-06-13 12:35:30,120 : INFO : worker thread finished; awaiting finish of 1 more threads\n",
      "2020-06-13 12:35:30,225 : INFO : worker thread finished; awaiting finish of 0 more threads\n",
      "2020-06-13 12:35:30,233 : INFO : EPOCH - 83 : training on 21299 raw words (8670 effective words) took 0.2s, 38523 effective words/s\n",
      "2020-06-13 12:35:30,344 : INFO : worker thread finished; awaiting finish of 2 more threads\n",
      "2020-06-13 12:35:30,369 : INFO : worker thread finished; awaiting finish of 1 more threads\n",
      "2020-06-13 12:35:30,446 : INFO : worker thread finished; awaiting finish of 0 more threads\n",
      "2020-06-13 12:35:30,456 : INFO : EPOCH - 84 : training on 21299 raw words (8623 effective words) took 0.2s, 43516 effective words/s\n",
      "2020-06-13 12:35:30,635 : INFO : worker thread finished; awaiting finish of 2 more threads\n",
      "2020-06-13 12:35:30,657 : INFO : worker thread finished; awaiting finish of 1 more threads\n",
      "2020-06-13 12:35:30,679 : INFO : worker thread finished; awaiting finish of 0 more threads\n",
      "2020-06-13 12:35:30,726 : INFO : EPOCH - 85 : training on 21299 raw words (8647 effective words) took 0.2s, 56710 effective words/s\n",
      "2020-06-13 12:35:30,880 : INFO : worker thread finished; awaiting finish of 2 more threads\n",
      "2020-06-13 12:35:30,913 : INFO : worker thread finished; awaiting finish of 1 more threads\n",
      "2020-06-13 12:35:30,959 : INFO : worker thread finished; awaiting finish of 0 more threads\n",
      "2020-06-13 12:35:31,001 : INFO : EPOCH - 86 : training on 21299 raw words (8686 effective words) took 0.2s, 48256 effective words/s\n",
      "2020-06-13 12:35:31,181 : INFO : worker thread finished; awaiting finish of 2 more threads\n",
      "2020-06-13 12:35:31,242 : INFO : worker thread finished; awaiting finish of 1 more threads\n",
      "2020-06-13 12:35:31,262 : INFO : worker thread finished; awaiting finish of 0 more threads\n",
      "2020-06-13 12:35:31,283 : INFO : EPOCH - 87 : training on 21299 raw words (8677 effective words) took 0.2s, 35814 effective words/s\n",
      "2020-06-13 12:35:31,523 : INFO : worker thread finished; awaiting finish of 2 more threads\n",
      "2020-06-13 12:35:31,619 : INFO : worker thread finished; awaiting finish of 1 more threads\n",
      "2020-06-13 12:35:31,667 : INFO : worker thread finished; awaiting finish of 0 more threads\n",
      "2020-06-13 12:35:31,719 : INFO : EPOCH - 88 : training on 21299 raw words (8661 effective words) took 0.4s, 21205 effective words/s\n",
      "2020-06-13 12:35:31,956 : INFO : worker thread finished; awaiting finish of 2 more threads\n",
      "2020-06-13 12:35:32,142 : INFO : worker thread finished; awaiting finish of 1 more threads\n",
      "2020-06-13 12:35:32,144 : INFO : worker thread finished; awaiting finish of 0 more threads\n",
      "2020-06-13 12:35:32,165 : INFO : EPOCH - 89 : training on 21299 raw words (8677 effective words) took 0.3s, 28280 effective words/s\n",
      "2020-06-13 12:35:32,312 : INFO : worker thread finished; awaiting finish of 2 more threads\n",
      "2020-06-13 12:35:32,353 : INFO : worker thread finished; awaiting finish of 1 more threads\n",
      "2020-06-13 12:35:32,453 : INFO : worker thread finished; awaiting finish of 0 more threads\n",
      "2020-06-13 12:35:32,477 : INFO : EPOCH - 90 : training on 21299 raw words (8732 effective words) took 0.3s, 29536 effective words/s\n",
      "2020-06-13 12:35:32,583 : INFO : worker thread finished; awaiting finish of 2 more threads\n",
      "2020-06-13 12:35:32,624 : INFO : worker thread finished; awaiting finish of 1 more threads\n",
      "2020-06-13 12:35:32,709 : INFO : worker thread finished; awaiting finish of 0 more threads\n",
      "2020-06-13 12:35:32,727 : INFO : EPOCH - 91 : training on 21299 raw words (8696 effective words) took 0.2s, 37690 effective words/s\n",
      "2020-06-13 12:35:32,931 : INFO : worker thread finished; awaiting finish of 2 more threads\n",
      "2020-06-13 12:35:33,018 : INFO : worker thread finished; awaiting finish of 1 more threads\n",
      "2020-06-13 12:35:33,037 : INFO : worker thread finished; awaiting finish of 0 more threads\n",
      "2020-06-13 12:35:33,054 : INFO : EPOCH - 92 : training on 21299 raw words (8672 effective words) took 0.2s, 35421 effective words/s\n",
      "2020-06-13 12:35:33,230 : INFO : worker thread finished; awaiting finish of 2 more threads\n",
      "2020-06-13 12:35:33,243 : INFO : worker thread finished; awaiting finish of 1 more threads\n",
      "2020-06-13 12:35:33,272 : INFO : worker thread finished; awaiting finish of 0 more threads\n",
      "2020-06-13 12:35:33,344 : INFO : EPOCH - 93 : training on 21299 raw words (8663 effective words) took 0.2s, 36216 effective words/s\n",
      "2020-06-13 12:35:33,473 : INFO : worker thread finished; awaiting finish of 2 more threads\n",
      "2020-06-13 12:35:33,514 : INFO : worker thread finished; awaiting finish of 1 more threads\n",
      "2020-06-13 12:35:33,526 : INFO : worker thread finished; awaiting finish of 0 more threads\n",
      "2020-06-13 12:35:33,575 : INFO : EPOCH - 94 : training on 21299 raw words (8729 effective words) took 0.2s, 55570 effective words/s\n",
      "2020-06-13 12:35:33,766 : INFO : worker thread finished; awaiting finish of 2 more threads\n",
      "2020-06-13 12:35:33,797 : INFO : worker thread finished; awaiting finish of 1 more threads\n",
      "2020-06-13 12:35:33,959 : INFO : worker thread finished; awaiting finish of 0 more threads\n",
      "2020-06-13 12:35:33,969 : INFO : EPOCH - 95 : training on 21299 raw words (8659 effective words) took 0.3s, 29887 effective words/s\n",
      "2020-06-13 12:35:34,079 : INFO : worker thread finished; awaiting finish of 2 more threads\n",
      "2020-06-13 12:35:34,124 : INFO : worker thread finished; awaiting finish of 1 more threads\n",
      "2020-06-13 12:35:34,226 : INFO : worker thread finished; awaiting finish of 0 more threads\n",
      "2020-06-13 12:35:34,237 : INFO : EPOCH - 96 : training on 21299 raw words (8721 effective words) took 0.2s, 36108 effective words/s\n",
      "2020-06-13 12:35:34,376 : INFO : worker thread finished; awaiting finish of 2 more threads\n",
      "2020-06-13 12:35:34,395 : INFO : worker thread finished; awaiting finish of 1 more threads\n",
      "2020-06-13 12:35:34,415 : INFO : worker thread finished; awaiting finish of 0 more threads\n",
      "2020-06-13 12:35:34,427 : INFO : EPOCH - 97 : training on 21299 raw words (8679 effective words) took 0.1s, 61800 effective words/s\n",
      "2020-06-13 12:35:34,651 : INFO : worker thread finished; awaiting finish of 2 more threads\n",
      "2020-06-13 12:35:34,817 : INFO : worker thread finished; awaiting finish of 1 more threads\n",
      "2020-06-13 12:35:34,873 : INFO : worker thread finished; awaiting finish of 0 more threads\n",
      "2020-06-13 12:35:34,877 : INFO : EPOCH - 98 : training on 21299 raw words (8701 effective words) took 0.3s, 29777 effective words/s\n",
      "2020-06-13 12:35:35,112 : INFO : worker thread finished; awaiting finish of 2 more threads\n",
      "2020-06-13 12:35:35,143 : INFO : worker thread finished; awaiting finish of 1 more threads\n",
      "2020-06-13 12:35:35,153 : INFO : worker thread finished; awaiting finish of 0 more threads\n",
      "2020-06-13 12:35:35,163 : INFO : EPOCH - 99 : training on 21299 raw words (8680 effective words) took 0.1s, 79391 effective words/s\n",
      "2020-06-13 12:35:35,429 : INFO : worker thread finished; awaiting finish of 2 more threads\n",
      "2020-06-13 12:35:35,449 : INFO : worker thread finished; awaiting finish of 1 more threads\n"
     ]
    },
    {
     "name": "stderr",
     "output_type": "stream",
     "text": [
      "2020-06-13 12:35:35,478 : INFO : worker thread finished; awaiting finish of 0 more threads\n",
      "2020-06-13 12:35:35,480 : INFO : EPOCH - 100 : training on 21299 raw words (8683 effective words) took 0.3s, 29976 effective words/s\n",
      "2020-06-13 12:35:35,488 : INFO : training on a 2129900 raw words (869516 effective words) took 34.2s, 25414 effective words/s\n"
     ]
    },
    {
     "name": "stdout",
     "output_type": "stream",
     "text": [
      "Wall time: 35.4 s\n"
     ]
    }
   ],
   "source": [
    "%time model_cinics = gensim.models.Word2Vec(data, size=300, window=5, min_count=5, iter=100)"
   ]
  },
  {
   "cell_type": "markdown",
   "metadata": {},
   "source": [
    "Можно посмотреть на слова в модели:"
   ]
  },
  {
   "cell_type": "code",
   "execution_count": 105,
   "metadata": {},
   "outputs": [],
   "source": [
    "#print(sorted([w for w in model_cinics.wv.vocab]))"
   ]
  },
  {
   "cell_type": "markdown",
   "metadata": {},
   "source": [
    "## Пропорции и ближайшие"
   ]
  },
  {
   "cell_type": "code",
   "execution_count": 64,
   "metadata": {},
   "outputs": [
    {
     "name": "stderr",
     "output_type": "stream",
     "text": [
      "2020-06-13 12:35:40,145 : INFO : precomputing L2-norms of word weight vectors\n"
     ]
    },
    {
     "data": {
      "text/plain": [
       "[('страшный', 0.540239691734314)]"
      ]
     },
     "execution_count": 64,
     "metadata": {},
     "output_type": "execute_result"
    }
   ],
   "source": [
    "model_cinics.wv.most_similar(positive=[\"владимир\", \"любовь\"],negative=[\"ольга\"], topn=1)"
   ]
  },
  {
   "cell_type": "markdown",
   "metadata": {},
   "source": [
    "\"Помутившийся разум желает сделать вечной свою любовь. Любовь более страшную, чем само безумие\" -- 1924, 21"
   ]
  },
  {
   "cell_type": "code",
   "execution_count": 65,
   "metadata": {},
   "outputs": [
    {
     "data": {
      "text/plain": [
       "[('подумать', 0.7571460008621216),\n",
       " ('голодный', 0.7524163722991943),\n",
       " ('желание', 0.7314223051071167),\n",
       " ('жрать', 0.7138879895210266),\n",
       " ('впрочем', 0.7133615612983704)]"
      ]
     },
     "execution_count": 65,
     "metadata": {},
     "output_type": "execute_result"
    }
   ],
   "source": [
    "model_cinics.wv.most_similar(\"кошка\", topn=5)"
   ]
  },
  {
   "cell_type": "code",
   "execution_count": 66,
   "metadata": {},
   "outputs": [
    {
     "data": {
      "text/plain": [
       "[('просить', 0.8158535957336426),\n",
       " ('пожалуйста', 0.7906895875930786),\n",
       " ('константин', 0.7828930020332336),\n",
       " ('письмо', 0.6645355224609375),\n",
       " ('получить', 0.6587498188018799)]"
      ]
     },
     "execution_count": 66,
     "metadata": {},
     "output_type": "execute_result"
    }
   ],
   "source": [
    "model_cinics.wv.most_similar(\"ольга\", topn=5)"
   ]
  },
  {
   "cell_type": "code",
   "execution_count": 67,
   "metadata": {},
   "outputs": [
    {
     "data": {
      "text/plain": [
       "[('жалкий', 0.8106496334075928),\n",
       " ('бессмертие', 0.6749229431152344),\n",
       " ('собственный', 0.6534161567687988),\n",
       " ('россия', 0.6505165696144104),\n",
       " ('слишком', 0.6499245166778564)]"
      ]
     },
     "execution_count": 67,
     "metadata": {},
     "output_type": "execute_result"
    }
   ],
   "source": [
    "model_cinics.wv.most_similar(\"любовь\", topn=5)"
   ]
  },
  {
   "cell_type": "code",
   "execution_count": 68,
   "metadata": {},
   "outputs": [
    {
     "data": {
      "text/plain": [
       "[('смех', 0.738937497138977),\n",
       " ('дорогой', 0.7212629914283752),\n",
       " ('зад', 0.684471845626831),\n",
       " ('огромный', 0.6622997522354126),\n",
       " ('желание', 0.6525146961212158)]"
      ]
     },
     "execution_count": 68,
     "metadata": {},
     "output_type": "execute_result"
    }
   ],
   "source": [
    "model_cinics.wv.most_similar(\"жизнь\", topn=5)"
   ]
  },
  {
   "cell_type": "code",
   "execution_count": 69,
   "metadata": {},
   "outputs": [
    {
     "data": {
      "text/plain": [
       "[('опять', 0.6443837881088257),\n",
       " ('нужно', 0.6318029165267944),\n",
       " ('война', 0.6203446388244629),\n",
       " ('арестовать', 0.6079311370849609),\n",
       " ('прыгать', 0.6029537320137024)]"
      ]
     },
     "execution_count": 69,
     "metadata": {},
     "output_type": "execute_result"
    }
   ],
   "source": [
    "model_cinics.wv.most_similar(\"хороший\", topn=5)"
   ]
  },
  {
   "cell_type": "code",
   "execution_count": 70,
   "metadata": {},
   "outputs": [
    {
     "data": {
      "text/plain": [
       "[('луна', 0.8516828417778015),\n",
       " ('упасть', 0.7658897638320923),\n",
       " ('звезда', 0.7501748204231262),\n",
       " ('пора', 0.734076976776123),\n",
       " ('что-то', 0.6938213109970093)]"
      ]
     },
     "execution_count": 70,
     "metadata": {},
     "output_type": "execute_result"
    }
   ],
   "source": [
    "model_cinics.wv.most_similar(\"отвратительный\", topn=5)"
   ]
  },
  {
   "cell_type": "code",
   "execution_count": 78,
   "metadata": {},
   "outputs": [
    {
     "data": {
      "text/plain": [
       "[('столик', 0.760309636592865),\n",
       " ('налить', 0.6990396976470947),\n",
       " ('арестовать', 0.6974870562553406),\n",
       " ('французский', 0.6952835917472839),\n",
       " ('константин', 0.6826673746109009)]"
      ]
     },
     "execution_count": 78,
     "metadata": {},
     "output_type": "execute_result"
    }
   ],
   "source": [
    "model_cinics.wv.most_similar(\"докучаев\", topn=5)"
   ]
  },
  {
   "cell_type": "code",
   "execution_count": 79,
   "metadata": {},
   "outputs": [
    {
     "data": {
      "text/plain": [
       "[('рабочий', 0.7605937123298645),\n",
       " ('губерния', 0.759297788143158),\n",
       " ('продовольственный', 0.7566300630569458),\n",
       " ('первое', 0.7528480887413025),\n",
       " ('старое', 0.7389317750930786)]"
      ]
     },
     "execution_count": 79,
     "metadata": {},
     "output_type": "execute_result"
    }
   ],
   "source": [
    "model_cinics.wv.most_similar(\"москва\", topn=5)"
   ]
  },
  {
   "cell_type": "code",
   "execution_count": 71,
   "metadata": {},
   "outputs": [
    {
     "data": {
      "text/plain": [
       "'смерть'"
      ]
     },
     "execution_count": 71,
     "metadata": {},
     "output_type": "execute_result"
    }
   ],
   "source": [
    "model_cinics.wv.doesnt_match(\"смерть ольга сергей марфуша\".split())"
   ]
  },
  {
   "cell_type": "markdown",
   "metadata": {},
   "source": [
    "### Визуализация"
   ]
  },
  {
   "cell_type": "code",
   "execution_count": 72,
   "metadata": {},
   "outputs": [],
   "source": [
    "from sklearn.decomposition import PCA\n",
    "import matplotlib.pyplot as plt\n",
    "%matplotlib inline"
   ]
  },
  {
   "cell_type": "code",
   "execution_count": 74,
   "metadata": {},
   "outputs": [],
   "source": [
    "words = ['ольга', 'я', 'сергей', 'марфуша', 'мамашева', 'докучаев']\n",
    "X = model_cinics[words]\n",
    "pca = PCA(n_components=2)\n",
    "pca.fit(model_cinics[list(model_cinics.wv.vocab)])\n",
    "coords = pca.transform(model_cinics[words])"
   ]
  },
  {
   "cell_type": "code",
   "execution_count": 75,
   "metadata": {},
   "outputs": [
    {
     "data": {
      "image/png": "[encoded data removed]",
      "text/plain": [
       "<Figure size 432x288 with 1 Axes>"
      ]
     },
     "metadata": {
      "needs_background": "light"
     },
     "output_type": "display_data"
    }
   ],
   "source": [
    "plt.scatter(coords[:, 0], coords[:, 1], color='red')\n",
    "plt.title('Words')\n",
    "\n",
    "for i, word in enumerate(words):\n",
    "    plt.annotate(word, xy=(coords[i, 0], coords[i, 1]))\n",
    "plt.show()"
   ]
  },
  {
   "cell_type": "markdown",
   "metadata": {},
   "source": [
    "### Замена слов в предложениии"
   ]
  },
  {
   "cell_type": "markdown",
   "metadata": {},
   "source": [
    "Поскольку слова в модели - леммы, и не всегда ближайшее слово той же части речи, что и исходное, то грамматической связности может не получиться"
   ]
  },
  {
   "cell_type": "code",
   "execution_count": 76,
   "metadata": {},
   "outputs": [
    {
     "name": "stdout",
     "output_type": "stream",
     "text": [
      "просить мысль пойти ночью\n"
     ]
    }
   ],
   "source": [
    "phrase = 'Ольга умерла сегодня ночью'\n",
    "result = []\n",
    "lemm_phrase = []\n",
    "t_phrase = nltk.word_tokenize(phrase)\n",
    "for w in t_phrase:\n",
    "    parseword = morph.parse(w)\n",
    "    lemm_phrase.append(parseword[0][2])\n",
    "\n",
    "\n",
    "for lemm in lemm_phrase:\n",
    "    if lemm in model_cinics.wv.vocab:\n",
    "        lemm = model_cinics.wv.most_similar(lemm, topn=1)[0][0]\n",
    "    result.append(lemm)\n",
    "print(' '.join(result))"
   ]
  }
 ],
 "metadata": {
  "kernelspec": {
   "display_name": "Python 3",
   "language": "python",
   "name": "python3"
  },
  "language_info": {
   "codemirror_mode": {
    "name": "ipython",
    "version": 3
   },
   "file_extension": ".py",
   "mimetype": "text/x-python",
   "name": "python",
   "nbconvert_exporter": "python",
   "pygments_lexer": "ipython3",
   "version": "3.7.4"
  }
 },
 "nbformat": 4,
 "nbformat_minor": 2
}
